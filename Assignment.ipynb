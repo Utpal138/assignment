{
 "cells": [
  {
   "cell_type": "code",
   "execution_count": null,
   "metadata": {},
   "outputs": [],
   "source": [
    "1. In the below elements which of them are values or an expression? e.g.: - values can be integer or string and expressions will be mathematical operators.\n",
    "\n",
    "Value: -\n",
    "6                     \n",
    "'hello'                     \n",
    "-87.8                       \n",
    "\n",
    "Expression:-                     \n",
    "*\n",
    "-\n",
    "/                    \n",
    "+                        "
   ]
  },
  {
   "cell_type": "code",
   "execution_count": null,
   "metadata": {},
   "outputs": [],
   "source": [
    "2. What is the difference between string and variable?\n",
    "\n",
    "Ans: - String is a type of data structure in python which can store character data type, but variable is itself a data structure which can store any \n",
    "    type of data or in other words datatypes. Variable can be of integer type, floating type, Boolean type, character type etc., but string can only be of character type only. "
   ]
  },
  {
   "cell_type": "markdown",
   "metadata": {},
   "source": [
    "3. Describe three different data types.\n",
    "\n",
    "\n",
    "      Three different data types are: - \n",
    "1.\tNumeric Types:  these are the data types which are used to store different types of numeric data like integer type, floating type, complex type.\n",
    "2.\tSequence Types: these are the data types which are used to store different type of data in sequential manner for easy management of data. For ex: - list, tuples, etc.\n",
    "3.\tBoolean type: - Boolean data type is used to express Boolean type values like true and false.\n"
   ]
  },
  {
   "cell_type": "code",
   "execution_count": null,
   "metadata": {},
   "outputs": [],
   "source": [
    "4.\tWhat is an expression made up of? What do all expressions do?\n",
    "\n",
    "\n",
    "Expression is a combination of various functions, operators and operands which combined with each to form a program which combinedly give other value which that expression is required to produce. An expression is evaluated as per the precedence of its operations.\n",
    "There are many types of expressions:\n",
    "•\tConstant Expressions.\n",
    "•\tArithmetic Expressions.\n",
    "•\tIntegral Expressions.\n",
    "•\tFloating Expressions.\n",
    "•\tRelational Expressions.\n",
    "•\tLogical Expressions.\n",
    "•\tBitwise Expressions.\n",
    "•\tCombinational Expressions.\n"
   ]
  },
  {
   "cell_type": "code",
   "execution_count": null,
   "metadata": {},
   "outputs": [],
   "source": [
    "5.\tThis assignment statements, like spam = 10. What is the difference between an expression and a statement?\n",
    "\n",
    "Expression are the combination of operator, operands and function which is used to give the computer instruction to perform a task (very specific mathematical task), \n",
    "but statement on the other hand is the combination of various expression which we use so that we can complete the specific task.\n",
    "  \n"
   ]
  },
  {
   "cell_type": "code",
   "execution_count": null,
   "metadata": {},
   "outputs": [],
   "source": [
    "6. After running the following code, what does the variable bacon contain?\n",
    "bacon = 22\n",
    "bacon + 1\n",
    "\n",
    "bacon will be 23.\n",
    "\n"
   ]
  },
  {
   "cell_type": "code",
   "execution_count": null,
   "metadata": {},
   "outputs": [],
   "source": [
    "7. What should the values of the following two terms be?\n",
    "\n",
    "'spam'+ 'spamspam' = ‘spamspamspam’\n",
    "'spam' * 3= ‘spamspamspam’\n",
    "\n"
   ]
  },
  {
   "cell_type": "code",
   "execution_count": null,
   "metadata": {},
   "outputs": [],
   "source": [
    "8 Why is eggs a valid variable name while 100 is invalid?\n",
    "\n",
    "\n",
    " Eggs is valid variable name because it is a name which can be identified as string to contain any type of variable, \n",
    " but 100 is itself an integer which cannot be used to store value as it is a value stored in memory. In simple word integer cannot store value but a world or sting can store a value as variable \n"
   ]
  },
  {
   "cell_type": "code",
   "execution_count": null,
   "metadata": {},
   "outputs": [],
   "source": [
    "9.What three functions can be used to get the integer, floating-point number, or string version of a value?\n",
    "\n",
    "The int (), float (), and str () functions will evaluate to the integer, floating-point number, and string versions of the value passed to them.\n",
    "\n"
   ]
  },
  {
   "cell_type": "code",
   "execution_count": null,
   "metadata": {},
   "outputs": [],
   "source": [
    "10. Why does this expression cause an error? How can you fix it?\n",
    "'I have eaten ' + 99 + ' burritos.'\n",
    "\n",
    "Because string can only concatenate string (not \"int\") to string.\n"
   ]
  }
 ],
 "metadata": {
  "kernelspec": {
   "display_name": "base",
   "language": "python",
   "name": "python3"
  },
  "language_info": {
   "codemirror_mode": {
    "name": "ipython",
    "version": 3
   },
   "file_extension": ".py",
   "mimetype": "text/x-python",
   "name": "python",
   "nbconvert_exporter": "python",
   "pygments_lexer": "ipython3",
   "version": "3.11.3"
  },
  "orig_nbformat": 4
 },
 "nbformat": 4,
 "nbformat_minor": 2
}
